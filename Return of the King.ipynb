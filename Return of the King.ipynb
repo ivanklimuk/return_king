{
 "cells": [
  {
   "cell_type": "markdown",
   "metadata": {},
   "source": [
    "# The Return of the King problem\n",
    "### A recursive brut force solution\n",
    "\n",
    "According to the task, on each step we decide in what direction to move along both the Y-axes and the X-axes, making 2 independent samples, where:\n",
    "\n",
    "1) $p_{up}$ = 0.3 and $p_{down}$ = 0.2\n",
    "\n",
    "2) $p_{left}$ = 0.2 and $p_{right}$ = 0.4"
   ]
  },
  {
   "cell_type": "markdown",
   "metadata": {},
   "source": [
    "### Hence there are totally **9** possible \"moves\" (including no motion, i.e staying on the same spot):\n",
    "- up: $p_{up} * (1 - p_{left} - p_{right})$\n",
    "- down: $p_{down} * (1 - p_{left} - p_{right})$\n",
    "- left: $p_{left} * (1 - p_{up} - p_{down})$\n",
    "- right: $p_{right} * (1 - p_{up} - p_{down})$\n",
    "- up-left: $p_{up} * p_{left}$\n",
    "- up-right: $p_{up} * p_{right}$\n",
    "- down-left: $p_{down} * p_{left}$\n",
    "- down-right: $p_{down} * p_{right}$\n",
    "- stay on the same field: $(1 - p_{left} - p_{right}) * (1 - p_{up} - p_{down})$\n",
    "\n",
    "(It doesn't really matter what \"up\" and \"down\" or \"left\" and \"right\" actually is. It only matters that these are opposite directions.)"
   ]
  },
  {
   "cell_type": "markdown",
   "metadata": {},
   "source": [
    "### Define the probabilities and a list of all possible moves with their corresponding probabilities:"
   ]
  },
  {
   "cell_type": "code",
   "execution_count": 77,
   "metadata": {},
   "outputs": [],
   "source": [
    "def create_possible_moves(p_up, p_down, p_left, p_right):\n",
    "    return [\n",
    "        {\n",
    "            'p': p_up * (1 - p_left - p_right), # up\n",
    "            'dx': 0,\n",
    "            'dy': 1\n",
    "        },\n",
    "        {\n",
    "            'p': p_down * (1 - p_left - p_right), # down\n",
    "            'dx': 0,\n",
    "            'dy': -1\n",
    "        },\n",
    "        {\n",
    "            'p': p_left * (1 - p_up - p_down), # left\n",
    "            'dx': -1,\n",
    "            'dy': 0\n",
    "        },\n",
    "        {\n",
    "            'p': p_right * (1 - p_up - p_down), # right\n",
    "            'dx': 1,\n",
    "            'dy': 0\n",
    "        },\n",
    "        {\n",
    "            'p': p_up * p_left, # up-left\n",
    "            'dx': -1,\n",
    "            'dy': 1\n",
    "        },\n",
    "        {\n",
    "            'p': p_up * p_right, # up-right\n",
    "            'dx': 1,\n",
    "            'dy': 1\n",
    "        },\n",
    "        {\n",
    "            'p': p_down * p_left, # down-left\n",
    "            'dx': -1,\n",
    "            'dy': -1\n",
    "        },\n",
    "        {\n",
    "            'p': p_down * p_right, # down-right\n",
    "            'dx': 1,\n",
    "            'dy': -1\n",
    "        },\n",
    "        {\n",
    "            'p': (1 - p_up - p_down) * (1 - p_left - p_right), # stay on the same field\n",
    "            'dx': 0,\n",
    "            'dy': 0\n",
    "        }\n",
    "    ]"
   ]
  },
  {
   "cell_type": "code",
   "execution_count": 97,
   "metadata": {},
   "outputs": [],
   "source": [
    "p_up = 0.3\n",
    "p_down = 0.2\n",
    "p_left = 0.2\n",
    "p_right = 0.4\n",
    "\n",
    "moves = create_possible_moves(p_up, p_down, p_left, p_right)"
   ]
  },
  {
   "cell_type": "markdown",
   "metadata": {},
   "source": [
    "### Check that the sum of all probabilities is actually 1:"
   ]
  },
  {
   "cell_type": "code",
   "execution_count": 98,
   "metadata": {},
   "outputs": [
    {
     "data": {
      "text/plain": [
       "1.0"
      ]
     },
     "execution_count": 98,
     "metadata": {},
     "output_type": "execute_result"
    }
   ],
   "source": [
    "sum([move['p'] for move in moves])"
   ]
  },
  {
   "cell_type": "markdown",
   "metadata": {},
   "source": [
    "### Define some contsants and initialize stuff:"
   ]
  },
  {
   "cell_type": "code",
   "execution_count": 99,
   "metadata": {},
   "outputs": [],
   "source": [
    "def make_step(step_no, x, y, p, routes_all):\n",
    "    for move in moves:\n",
    "        if step_no + 1 == N_STEPS:\n",
    "            routes_all.append(\n",
    "                {\n",
    "                    'x': x + move['dx'],\n",
    "                    'y': y + move['dy'],\n",
    "                    'p': p * move['p']\n",
    "                }\n",
    "            )\n",
    "        else:\n",
    "            make_step(step_no + 1, \n",
    "                      x + move['dx'], \n",
    "                      y + move['dy'], \n",
    "                      p * move['p'], \n",
    "                      routes_all)"
   ]
  },
  {
   "cell_type": "code",
   "execution_count": 100,
   "metadata": {},
   "outputs": [],
   "source": [
    "N_STEPS = 5 # the desired number of steps\n",
    "\n",
    "P_START = 1 # the initial probability\n",
    "\n",
    "X_START = 0 # start x coordinate\n",
    "Y_START = 0 # start y coordinate\n",
    "\n",
    "routes_all = [] # empty routes list"
   ]
  },
  {
   "cell_type": "code",
   "execution_count": 101,
   "metadata": {},
   "outputs": [
    {
     "name": "stdout",
     "output_type": "stream",
     "text": [
      "CPU times: user 29.4 ms, sys: 5.1 ms, total: 34.5 ms\n",
      "Wall time: 33.7 ms\n"
     ]
    }
   ],
   "source": [
    "%%time\n",
    "\n",
    "make_step(0, X_START, Y_START, P_START, routes_all)"
   ]
  },
  {
   "cell_type": "code",
   "execution_count": 102,
   "metadata": {},
   "outputs": [
    {
     "name": "stdout",
     "output_type": "stream",
     "text": [
      "All possible routes checked (59049)\n"
     ]
    }
   ],
   "source": [
    "if len(routes_all) == pow(len(moves), N_STEPS):\n",
    "    print('All possible routes checked ({})'. format(len(routes_all)))\n",
    "else:\n",
    "    print('Some error occured.')"
   ]
  },
  {
   "cell_type": "code",
   "execution_count": 103,
   "metadata": {},
   "outputs": [
    {
     "name": "stdout",
     "output_type": "stream",
     "text": [
      "The probability of being on the start field after 5 moves is 0.04456576000000016.\n"
     ]
    }
   ],
   "source": [
    "print('The probability of being on the start field after {} moves is {}.'. format(N_STEPS, \n",
    "                                                                                  sum([route['p'] for route in routes_all if route['x'] == 0 and route['y'] == 0])))"
   ]
  },
  {
   "cell_type": "markdown",
   "metadata": {},
   "source": [
    "### Let's compare it with the case when the probability of going in any of the eight directions was the same (p = 0.125)"
   ]
  },
  {
   "cell_type": "code",
   "execution_count": 109,
   "metadata": {},
   "outputs": [],
   "source": [
    "moves = [\n",
    "    {\n",
    "        'p': 0.125, # up\n",
    "        'dx': 0,\n",
    "        'dy': 1\n",
    "    },\n",
    "    {\n",
    "        'p': 0.125, # down\n",
    "        'dx': 0,\n",
    "        'dy': -1\n",
    "    },\n",
    "    {\n",
    "        'p': 0.125, # left\n",
    "        'dx': -1,\n",
    "        'dy': 0\n",
    "    },\n",
    "    {\n",
    "        'p': 0.125, # right\n",
    "        'dx': 1,\n",
    "        'dy': 0\n",
    "    },\n",
    "    {\n",
    "        'p': 0.125, # up-left\n",
    "        'dx': -1,\n",
    "        'dy': 1\n",
    "    },\n",
    "    {\n",
    "        'p': 0.125, # up-right\n",
    "        'dx': 1,\n",
    "        'dy': 1\n",
    "    },\n",
    "    {\n",
    "        'p': 0.125, # down-left\n",
    "        'dx': -1,\n",
    "        'dy': -1\n",
    "    },\n",
    "    {\n",
    "        'p': 0.125, # down-right\n",
    "        'dx': 1,\n",
    "        'dy': -1\n",
    "    },\n",
    "    {\n",
    "        'p': 0, # stay on the same field\n",
    "        'dx': 0,\n",
    "        'dy': 0\n",
    "    }\n",
    "]"
   ]
  },
  {
   "cell_type": "code",
   "execution_count": 110,
   "metadata": {},
   "outputs": [],
   "source": [
    "N_STEPS = 5 # the desired number of steps\n",
    "\n",
    "P_START = 1 # the initial probability\n",
    "\n",
    "X_START = 0 # start x coordinate\n",
    "Y_START = 0 # start y coordinate\n",
    "\n",
    "routes_all = [] # empty routes list"
   ]
  },
  {
   "cell_type": "code",
   "execution_count": 111,
   "metadata": {},
   "outputs": [
    {
     "name": "stdout",
     "output_type": "stream",
     "text": [
      "CPU times: user 28.1 ms, sys: 3.88 ms, total: 32 ms\n",
      "Wall time: 31.6 ms\n"
     ]
    }
   ],
   "source": [
    "%%time\n",
    "\n",
    "make_step(0, X_START, Y_START, P_START, routes_all)"
   ]
  },
  {
   "cell_type": "code",
   "execution_count": 112,
   "metadata": {},
   "outputs": [
    {
     "name": "stdout",
     "output_type": "stream",
     "text": [
      "All possible routes checked (59049)\n"
     ]
    }
   ],
   "source": [
    "if len(routes_all) == pow(len(moves), N_STEPS):\n",
    "    print('All possible routes checked ({})'. format(len(routes_all)))"
   ]
  },
  {
   "cell_type": "code",
   "execution_count": 113,
   "metadata": {},
   "outputs": [
    {
     "name": "stdout",
     "output_type": "stream",
     "text": [
      "The probability of being on the start field after 5 moves is 0.03662109375.\n"
     ]
    }
   ],
   "source": [
    "print('The probability of being on the start field after {} moves is {}.'. format(N_STEPS, \n",
    "                                                                                  sum([route['p'] for route in routes_all if route['x'] == 0 and route['y'] == 0])))"
   ]
  }
 ],
 "metadata": {
  "kernelspec": {
   "display_name": "Python 3",
   "language": "python",
   "name": "python3"
  },
  "language_info": {
   "codemirror_mode": {
    "name": "ipython",
    "version": 3
   },
   "file_extension": ".py",
   "mimetype": "text/x-python",
   "name": "python",
   "nbconvert_exporter": "python",
   "pygments_lexer": "ipython3",
   "version": "3.6.5"
  }
 },
 "nbformat": 4,
 "nbformat_minor": 2
}
